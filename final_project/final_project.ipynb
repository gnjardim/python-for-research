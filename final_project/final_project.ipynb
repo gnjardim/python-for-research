{
 "cells": [
  {
   "cell_type": "markdown",
   "metadata": {},
   "source": [
    "# Final Project"
   ]
  },
  {
   "cell_type": "code",
   "execution_count": 109,
   "metadata": {},
   "outputs": [],
   "source": [
    "import pandas as pd\n",
    "import numpy as np\n",
    "\n",
    "from sklearn.ensemble import RandomForestClassifier\n",
    "from sklearn.model_selection import train_test_split\n",
    "from sklearn.metrics import accuracy_score"
   ]
  },
  {
   "cell_type": "code",
   "execution_count": 110,
   "metadata": {},
   "outputs": [
    {
     "name": "stdout",
     "output_type": "stream",
     "text": [
      "   Unnamed: 0      timestamp                 UTC time  label\n",
      "0       20589  1565109931087  2019-08-06T16:45:31.087      1\n",
      "1       20599  1565109932090  2019-08-06T16:45:32.090      1\n",
      "2       20609  1565109933092  2019-08-06T16:45:33.092      1\n",
      "3       20619  1565109934094  2019-08-06T16:45:34.094      1\n",
      "4       20629  1565109935097  2019-08-06T16:45:35.097      1\n",
      "   Unnamed: 0      timestamp                 UTC time accuracy         x  \\\n",
      "0       20586  1565109930787  2019-08-06T16:45:30.787  unknown -0.006485   \n",
      "1       20587  1565109930887  2019-08-06T16:45:30.887  unknown -0.066467   \n",
      "2       20588  1565109930987  2019-08-06T16:45:30.987  unknown -0.043488   \n",
      "3       20589  1565109931087  2019-08-06T16:45:31.087  unknown -0.053802   \n",
      "4       20590  1565109931188  2019-08-06T16:45:31.188  unknown -0.054031   \n",
      "\n",
      "          y         z  \n",
      "0 -0.934860 -0.069046  \n",
      "1 -1.015442  0.089554  \n",
      "2 -1.021255  0.178467  \n",
      "3 -0.987701  0.068985  \n",
      "4 -1.003616  0.126450  \n",
      "(375, 4) (3744, 7)\n"
     ]
    }
   ],
   "source": [
    "# load data\n",
    "train_labels      = pd.read_csv(\"train_labels.csv\")\n",
    "train_time_series = pd.read_csv(\"train_time_series.csv\")\n",
    "\n",
    "print(train_labels.head())\n",
    "print(train_time_series.head())\n",
    "print(train_labels.shape, train_time_series.shape)"
   ]
  },
  {
   "cell_type": "code",
   "execution_count": 111,
   "metadata": {},
   "outputs": [],
   "source": [
    "# prepare data\n",
    "train_time_series[\"ind\"] = train_time_series.index//10\n",
    "grouped_data = train_time_series.groupby([\"ind\"]).mean()\n",
    "\n",
    "# dividing in train and test\n",
    "covariates = [\"x\", \"y\", \"z\"]\n",
    "X_train, X_test, y_train, y_test = train_test_split(grouped_data[covariates], train_labels[\"label\"], train_size = 0.7, random_state = 1)"
   ]
  },
  {
   "cell_type": "code",
   "execution_count": 112,
   "metadata": {},
   "outputs": [
    {
     "data": {
      "text/plain": [
       "RandomForestClassifier(bootstrap=True, ccp_alpha=0.0, class_weight=None,\n",
       "                       criterion='gini', max_depth=None, max_features='auto',\n",
       "                       max_leaf_nodes=None, max_samples=None,\n",
       "                       min_impurity_decrease=0.0, min_impurity_split=None,\n",
       "                       min_samples_leaf=1, min_samples_split=2,\n",
       "                       min_weight_fraction_leaf=0.0, n_estimators=2000,\n",
       "                       n_jobs=None, oob_score=False, random_state=1, verbose=0,\n",
       "                       warm_start=False)"
      ]
     },
     "execution_count": 112,
     "metadata": {},
     "output_type": "execute_result"
    }
   ],
   "source": [
    "# Instantiate model with 2000 decision trees\n",
    "rf = RandomForestClassifier(n_estimators = 2000, random_state = 1)\n",
    "\n",
    "# Train the model on training data\n",
    "rf.fit(X_train, y_train)"
   ]
  },
  {
   "cell_type": "code",
   "execution_count": 113,
   "metadata": {},
   "outputs": [
    {
     "data": {
      "text/plain": [
       "0.6548672566371682"
      ]
     },
     "execution_count": 113,
     "metadata": {},
     "output_type": "execute_result"
    }
   ],
   "source": [
    "# generate test predictions\n",
    "pred = rf.predict(X_test)\n",
    "\n",
    "# check accuracy\n",
    "accuracy_score(y_test, pred)"
   ]
  },
  {
   "cell_type": "markdown",
   "metadata": {},
   "source": [
    "## Generate Predictions"
   ]
  },
  {
   "cell_type": "code",
   "execution_count": 114,
   "metadata": {},
   "outputs": [
    {
     "name": "stdout",
     "output_type": "stream",
     "text": [
      "   Unnamed: 0      timestamp                 UTC time  label\n",
      "0       24339  1565110307041  2019-08-06T16:51:47.041    NaN\n",
      "1       24349  1565110308043  2019-08-06T16:51:48.043    NaN\n",
      "2       24359  1565110309046  2019-08-06T16:51:49.046    NaN\n",
      "3       24369  1565110310048  2019-08-06T16:51:50.048    NaN\n",
      "4       24379  1565110311050  2019-08-06T16:51:51.050    NaN\n",
      "   Unnamed: 0      timestamp                 UTC time accuracy         x  \\\n",
      "0       24330  1565110306139  2019-08-06T16:51:46.139  unknown  0.034286   \n",
      "1       24331  1565110306239  2019-08-06T16:51:46.239  unknown  0.409164   \n",
      "2       24332  1565110306340  2019-08-06T16:51:46.340  unknown -0.234390   \n",
      "3       24333  1565110306440  2019-08-06T16:51:46.440  unknown  0.251114   \n",
      "4       24334  1565110306540  2019-08-06T16:51:46.540  unknown  0.109924   \n",
      "\n",
      "          y         z  \n",
      "0 -1.504456  0.157623  \n",
      "1 -1.038544  0.030975  \n",
      "2 -0.984558  0.124771  \n",
      "3 -0.787003  0.054810  \n",
      "4 -0.169510  0.235550  \n",
      "(125, 4) (1250, 7)\n"
     ]
    }
   ],
   "source": [
    "# load data\n",
    "test_labels      = pd.read_csv(\"test_labels.csv\")\n",
    "test_time_series = pd.read_csv(\"test_time_series.csv\")\n",
    "\n",
    "print(test_labels.head())\n",
    "print(test_time_series.head())\n",
    "print(test_labels.shape, test_time_series.shape)"
   ]
  },
  {
   "cell_type": "code",
   "execution_count": 123,
   "metadata": {},
   "outputs": [
    {
     "data": {
      "text/plain": [
       "array([2, 3, 4, 2, 4, 2, 2, 2, 2, 3, 3, 2, 2, 3, 2, 4, 3, 2, 2, 2, 2, 3,\n",
       "       2, 2, 3, 4, 2, 2, 4, 4, 2, 2, 2, 3, 2, 2, 1, 2, 1, 1, 1, 1, 1, 2,\n",
       "       1, 1, 1, 1, 1, 1, 1, 1, 2, 3, 2, 4, 3, 4, 3, 3, 2, 2, 2, 1, 4, 3,\n",
       "       4, 4, 3, 2, 3, 2, 2, 2, 3, 2, 2, 3, 4, 2, 2, 2, 2, 3, 3, 2, 2, 3,\n",
       "       2, 2, 2, 3, 2, 3, 2, 2, 2, 2, 2, 2, 2, 3, 2, 2, 2, 3, 2, 3, 2, 2,\n",
       "       2, 3, 2, 2, 3, 2, 2, 2, 2, 2, 2, 2, 2, 2, 2], dtype=int64)"
      ]
     },
     "execution_count": 123,
     "metadata": {},
     "output_type": "execute_result"
    }
   ],
   "source": [
    "# prepare data\n",
    "test_time_series[\"ind\"] = test_time_series.index//10\n",
    "test_grouped_data = test_time_series.groupby([\"ind\"]).mean()\n",
    "\n",
    "# Use the forest's predict method on the test data\n",
    "predictions = rf.predict(test_grouped_data[covariates])\n",
    "predictions"
   ]
  }
 ],
 "metadata": {
  "kernelspec": {
   "display_name": "Python 3",
   "language": "python",
   "name": "python3"
  },
  "language_info": {
   "codemirror_mode": {
    "name": "ipython",
    "version": 3
   },
   "file_extension": ".py",
   "mimetype": "text/x-python",
   "name": "python",
   "nbconvert_exporter": "python",
   "pygments_lexer": "ipython3",
   "version": "3.7.7"
  }
 },
 "nbformat": 4,
 "nbformat_minor": 4
}
